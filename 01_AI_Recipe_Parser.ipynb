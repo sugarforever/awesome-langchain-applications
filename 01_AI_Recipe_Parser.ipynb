{
  "nbformat": 4,
  "nbformat_minor": 0,
  "metadata": {
    "colab": {
      "provenance": [],
      "authorship_tag": "ABX9TyPu7wiXlczf2uk6G4YxH1LJ",
      "include_colab_link": true
    },
    "kernelspec": {
      "name": "python3",
      "display_name": "Python 3"
    },
    "language_info": {
      "name": "python"
    }
  },
  "cells": [
    {
      "cell_type": "markdown",
      "metadata": {
        "id": "view-in-github",
        "colab_type": "text"
      },
      "source": [
        "<a href=\"https://colab.research.google.com/github/sugarforever/awesome-langchain-applications/blob/main/01_AI_Recipe_Parser.ipynb\" target=\"_parent\"><img src=\"https://colab.research.google.com/assets/colab-badge.svg\" alt=\"Open In Colab\"/></a>"
      ]
    },
    {
      "cell_type": "markdown",
      "source": [
        "# AI Recipe Parser\n",
        "\n",
        "Extract ingredients from recipes like https://www.jamieoliver.com/recipes/pasta-recipes/smoked-salmon-pasta/"
      ],
      "metadata": {
        "id": "IkIusM-GD9MR"
      }
    },
    {
      "cell_type": "code",
      "execution_count": 8,
      "metadata": {
        "colab": {
          "base_uri": "https://localhost:8080/"
        },
        "id": "Ceq3MMqkDutF",
        "outputId": "9c5ed1df-0761-4c35-c52a-0af38fd12ef3"
      },
      "outputs": [
        {
          "output_type": "stream",
          "name": "stdout",
          "text": [
            "\u001b[?25l     \u001b[90m━━━━━━━━━━━━━━━━━━━━━━━━━━━━━━━━━━━━━━━━\u001b[0m \u001b[32m0.0/143.0 kB\u001b[0m \u001b[31m?\u001b[0m eta \u001b[36m-:--:--\u001b[0m\r\u001b[2K     \u001b[91m━━━━━━━━━━━━━━━━━━━━━━━━━━━━━━━━━━━━\u001b[0m\u001b[90m╺\u001b[0m\u001b[90m━━\u001b[0m \u001b[32m133.1/143.0 kB\u001b[0m \u001b[31m4.3 MB/s\u001b[0m eta \u001b[36m0:00:01\u001b[0m\r\u001b[2K     \u001b[90m━━━━━━━━━━━━━━━━━━━━━━━━━━━━━━━━━━━━━━━\u001b[0m \u001b[32m143.0/143.0 kB\u001b[0m \u001b[31m3.5 MB/s\u001b[0m eta \u001b[36m0:00:00\u001b[0m\n",
            "\u001b[?25h"
          ]
        }
      ],
      "source": [
        "!pip install -q -U langchain openai beautifulsoup4"
      ]
    },
    {
      "cell_type": "code",
      "source": [
        "from langchain.output_parsers import PydanticOutputParser\n",
        "from pydantic import BaseModel, Field\n",
        "from typing import List\n",
        "\n",
        "class Ingredient(BaseModel):\n",
        "    name: str = Field(description=\"The name of the ingredient\")\n",
        "    quantity: float = Field(description=\"The specific unit of measurement corresponding to the quantity, such as grams, ounces, liters, etc.\")\n",
        "    unit: str = Field(description=\"The amount of the ingredient required for the recipe. This can be represented using various units such as grams, cups, teaspoons, etc.\")\n",
        "\n",
        "class Recipe(BaseModel):\n",
        "    name: str = Field(description=\"The name of the recipe\")\n",
        "    ingredients: List[Ingredient] = Field(description=\"The list of ingredients for the recipe\")"
      ],
      "metadata": {
        "id": "sZ85C4TMin8y"
      },
      "execution_count": 23,
      "outputs": []
    },
    {
      "cell_type": "code",
      "source": [
        "from langchain.prompts import (\n",
        "    PromptTemplate,\n",
        "    ChatPromptTemplate,\n",
        "    HumanMessagePromptTemplate,\n",
        ")\n",
        "from langchain.llms import OpenAI\n",
        "from langchain.chat_models import ChatOpenAI\n",
        "\n",
        "temperature = 0.0\n",
        "model = ChatOpenAI(model=\"gpt-3.5-turbo-16k\", temperature=temperature, openai_api_key=\"您的有效openai api key\")"
      ],
      "metadata": {
        "id": "HZrO49ID5_0n"
      },
      "execution_count": 19,
      "outputs": []
    },
    {
      "cell_type": "code",
      "source": [
        "import requests\n",
        "from bs4 import BeautifulSoup\n",
        "\n",
        "url = \"https://www.jamieoliver.com/recipes/pasta-recipes/smoked-salmon-pasta/\"\n",
        "\n",
        "response = requests.get(url)\n",
        "html_markup = ''\n",
        "if response.status_code == 200:\n",
        "    html_markup = response.text\n",
        "    soup = BeautifulSoup(html_markup, 'html.parser')\n",
        "\n",
        "    # Find the element with id 'recipe-single'\n",
        "    recipe_element = soup.find(id='recipe-single')\n",
        "\n",
        "    if recipe_element:\n",
        "        # Get the sanitized content within the 'recipe-single' element\n",
        "        html_markup = str(recipe_element)\n",
        "else:\n",
        "    print(\"Failed to retrieve the website content.\")\n"
      ],
      "metadata": {
        "id": "J5eYTnY36tHc"
      },
      "execution_count": 16,
      "outputs": []
    },
    {
      "cell_type": "code",
      "source": [
        "html_markup"
      ],
      "metadata": {
        "colab": {
          "base_uri": "https://localhost:8080/",
          "height": 128
        },
        "id": "MM4BzskG7VVH",
        "outputId": "e5c4a957-0a87-4559-81fe-a5c0a8180200"
      },
      "execution_count": 17,
      "outputs": [
        {
          "output_type": "execute_result",
          "data": {
            "text/plain": [
              "'<section class=\"family-food-inspiration-page-container one\" id=\"recipe-single\">\\n<div class=\"container recipe-container\">\\n<div class=\"row\">\\n<div class=\"single-recipe-details-mobile col-xs-12 visible-xs-block\">\\n<div class=\"single-recipe-details-mobile-top\">\\n<h3 class=\"h1 single-recipe-title\">Smoked salmon pasta</h3>\\n<p class=\"subheading\">Spinach, spring onion, lemon, curds &amp; Parmesan</p>\\n</div>\\n<div class=\"float-wrapper\">\\n</div>\\n</div>\\n</div>\\n<svg class=\"print-logo\" viewbox=\"0 0 373.89 65.28\" xmlns=\"http://www.w3.org/2000/svg\"><path class=\"cls-1\" d=\"M23,12.63H45.44v2.62H42.75a3.18,3.18,0,0,0-2.17.61,2.33,2.33,0,0,0-.68,1.84V43.07a10.76,10.76,0,0,1-4.18,8.69c-2.8,2.26-6.59,3.41-11.36,3.41q-6.59,0-10.71-3.26c-2.76-2.17-4.14-4.68-4.14-7.51A7.18,7.18,0,0,1,11.61,39,6.93,6.93,0,0,1,16.71,37,6.33,6.33,0,0,1,21,38.52a4.92,4.92,0,0,1,1.76,3.82,4.68,4.68,0,0,1-1.27,3.44,4.14,4.14,0,0,1-3.06,1.3A7.38,7.38,0,0,1,17.35,47a8.07,8.07,0,0,0-1.36-.2,1.91,1.91,0,0,0-1.18.29,1.27,1.27,0,0,0-.33,1,3.36,3.36,0,0,0,1.83,2.82,10.66,10.66,0,0,0,5.85,1.55,7.75,7.75,0,0,0,5.89-2.25c1.44-1.49,2.14-3.65,2.14-6.49V17.7a2.3,2.3,0,0,0-.67-1.85,2.85,2.85,0,0,0-2-.6H23\"></path><path class=\"cls-1\" d=\"M150.07,51.68a3,3,0,0,1-1.93-.5,1.64,1.64,0,0,1-.64-1.4V27.38l-12.87.55v2.56h1.3a3.72,3.72,0,0,1,2.51.78,2.8,2.8,0,0,1,.91,2.23V49.22c0,3.21-8.64,3.25-8.64,0V36.63q0-4.65-2.53-7.18a9.39,9.39,0,0,0-6.92-2.52,13.21,13.21,0,0,0-6.07,1.48,19,19,0,0,0-5.84,5A9.21,9.21,0,0,0,106,28.6a9.73,9.73,0,0,0-5.73-1.6,13.07,13.07,0,0,0-6,1.37,19.52,19.52,0,0,0-5.7,4.82,34.59,34.59,0,0,0-.9-5.86l-12,.61V30.5a9.87,9.87,0,0,1,2.92.25,2.7,2.7,0,0,1,1.4,1,2.9,2.9,0,0,1,.45,1.7V48.65c0,3.69-9.38,4.34-9.38-.08V35.65a8.66,8.66,0,0,0-1.41-5,7.43,7.43,0,0,0-3.66-2.86A23.54,23.54,0,0,0,58,26.47a18.36,18.36,0,0,0-10.09,2.59q-3.26,2.09-3.25,4.82a3.42,3.42,0,0,0,1.24,2.72,4.86,4.86,0,0,0,3.28,1,4.54,4.54,0,0,0,3.06-1,3.17,3.17,0,0,0,1.15-2.55,4.43,4.43,0,0,0-.87-2.51,1.74,1.74,0,0,1-.4-.85c0-.35.36-.72,1.08-1.07a8,8,0,0,1,3.72-.82,6.47,6.47,0,0,1,4.39,1.42A4.67,4.67,0,0,1,62.93,34V37.8q-12.26,2-15.87,4.06c-3,1.71-4.51,4-4.51,6.82A5.55,5.55,0,0,0,45,53.33a11.16,11.16,0,0,0,6.81,1.83,14.66,14.66,0,0,0,5.65-1,20.6,20.6,0,0,0,5.66-3.87c.47,1,2,5.16,7.15,5.16a12.38,12.38,0,0,0,5.3-1.11H93.44V51.69H91.73A3.46,3.46,0,0,1,89.38,51a2.88,2.88,0,0,1-.61-2.15V38.47a6.52,6.52,0,0,1,1.12-3.35,7.45,7.45,0,0,1,2.73-2.71,7.05,7.05,0,0,1,3.45-.88A5.29,5.29,0,0,1,100,33.11a6.08,6.08,0,0,1,1.54,4.43V49.43a2.27,2.27,0,0,1-.72,1.78,3.48,3.48,0,0,1-2.16.48h-2v2.62h17.8V51.69h-2A3.29,3.29,0,0,1,110.3,51a2.45,2.45,0,0,1-.59-1.78v-10a8.61,8.61,0,0,1,1.18-4,6.38,6.38,0,0,1,6.18-3.74,5.26,5.26,0,0,1,4,1.52,6.72,6.72,0,0,1,1.43,4.71V49.27a2.33,2.33,0,0,1-.66,1.83,3.53,3.53,0,0,1-2.3.59h-1.79v2.62H152V51.68m-89.1-7.79a7.31,7.31,0,0,1-2,5.46,7,7,0,0,1-5.1,2,4.29,4.29,0,0,1-3.08-1.06,4,4,0,0,1-1.09-3A5.32,5.32,0,0,1,54,42.78c1.56-1.14,4.55-2,9-2.53Z\"></path><path class=\"cls-1\" d=\"M143,24.88a5.16,5.16,0,0,0,3.57-1.34,4.2,4.2,0,0,0,1.49-3.26A4.27,4.27,0,0,0,146.6,17a5.45,5.45,0,0,0-7.16,0,4.32,4.32,0,0,0,0,6.49A5.13,5.13,0,0,0,143,24.88\"></path><path class=\"cls-1\" d=\"M181.23,41.64H160.94c.06,3.71.87,6.43,2.46,8.19a7.76,7.76,0,0,0,6.06,2.63,10,10,0,0,0,5-1.35,16.36,16.36,0,0,0,4.87-4.91l2.26,1.27a16.19,16.19,0,0,1-6,6,17,17,0,0,1-8.28,1.83q-7.11,0-11.5-3.93a13,13,0,0,1-4.4-10.12A13.6,13.6,0,0,1,155.86,31a15.32,15.32,0,0,1,10.85-4.14,16.25,16.25,0,0,1,7.66,1.67,11.92,11.92,0,0,1,5,4.85,17.79,17.79,0,0,1,1.86,8.31m-20.29-2.57h9.66a2.54,2.54,0,0,0,1.94-.62,3.34,3.34,0,0,0,.59-2.25,7.23,7.23,0,0,0-1.64-5.06,5.4,5.4,0,0,0-4.17-1.8,5.14,5.14,0,0,0-4.57,2.43C161.68,33.39,161.07,35.83,160.94,39.07Z\"></path><path class=\"cls-1\" d=\"M265,15.5a5.14,5.14,0,0,1,3.56,1.33,4.32,4.32,0,0,1,0,6.51A5.16,5.16,0,0,1,265,24.69a5.25,5.25,0,0,1-3.6-1.36,4.35,4.35,0,0,1,0-6.5A5.21,5.21,0,0,1,265,15.5\"></path><path class=\"cls-1\" d=\"M271.88,27.43H289v2.47h-1.4a4.72,4.72,0,0,0-2.28.39,1.22,1.22,0,0,0-.61,1.12,3.7,3.7,0,0,0,.67,1.88l7.33,12.36,6.34-11.56a3.31,3.31,0,0,0,.5-1.72c0-1.57-1.45-2.39-4.33-2.47V27.42H307.7v2.47a6.06,6.06,0,0,0-2.61.74,4.89,4.89,0,0,0-1.65,1.87L291.51,54.33h-2.19L276.13,32.27a6.18,6.18,0,0,0-1.56-1.93,3.31,3.31,0,0,0-1.83-.45h-.86\"></path><path class=\"cls-1\" d=\"M335,41.28H314.72q.11,5.56,2.46,8.19a7.74,7.74,0,0,0,6.07,2.64,10,10,0,0,0,5-1.35,16.38,16.38,0,0,0,4.88-4.91l2.26,1.27a16.39,16.39,0,0,1-6,6A17.22,17.22,0,0,1,321.13,55q-7.11,0-11.51-3.94a13.09,13.09,0,0,1-4.4-10.13,13.58,13.58,0,0,1,4.42-10.31,15.27,15.27,0,0,1,10.87-4.14,16.18,16.18,0,0,1,7.65,1.66,11.76,11.76,0,0,1,5,4.85,17.65,17.65,0,0,1,1.89,8.3m-20.31-2.55h9.65a2.61,2.61,0,0,0,2-.63,3.36,3.36,0,0,0,.58-2.26,7.19,7.19,0,0,0-1.64-5.05A5.36,5.36,0,0,0,321.1,29a5.12,5.12,0,0,0-4.57,2.42C315.46,33,314.87,35.47,314.72,38.73Z\"></path><path class=\"cls-1\" d=\"M355.12,51.69V54.3h-20V51.7h2.29a3.74,3.74,0,0,0,2.27-.56,1.76,1.76,0,0,0,.71-1.48V34a3.61,3.61,0,0,0-1-2.75,3.7,3.7,0,0,0-2.65-.87h-1.63V27.93l12.37-.59v8.59a12.42,12.42,0,0,1,3.79-6.62A9.06,9.06,0,0,1,357.34,27a6.85,6.85,0,0,1,4.54,1.4A4.47,4.47,0,0,1,363.56,32,4.19,4.19,0,0,1,362.4,35a3.87,3.87,0,0,1-2.84,1.17,3.57,3.57,0,0,1-2.56-1A3.44,3.44,0,0,1,356,32.6a4,4,0,0,1,.51-1.84,2.19,2.19,0,0,0,.27-.75.77.77,0,0,0-.21-.58,1,1,0,0,0-.63-.19,3.85,3.85,0,0,0-2.44,1.19A13.79,13.79,0,0,0,350,36.15,22.81,22.81,0,0,0,348.65,44v5.7a1.9,1.9,0,0,0,.59,1.5,2.36,2.36,0,0,0,1.64.53\"></path><path class=\"cls-1\" d=\"M239,54.32V51.71h2a2.8,2.8,0,0,0,2-.67,2.76,2.76,0,0,0,.67-2V21.09a3.07,3.07,0,0,0-3.22-2.85h-2V15.76c4.82,0,9.66-.18,12.35-3l1-.11V49.31c0,1.4,1.7,2.18,3.63,2.36.56,0,1.89,0,2.45,0,2-.19,3.71-1,3.71-2.39V33.52a2.8,2.8,0,0,0-.92-2.23,3.69,3.69,0,0,0-2.52-.78h-1.3V27.94l12.86-.53v22.4a1.69,1.69,0,0,0,.63,1.39,3.15,3.15,0,0,0,1.94.5h2v2.62\"></path><path class=\"cls-1\" d=\"M217.08,11.61a23.32,23.32,0,0,1,11.41,2.84,20.84,20.84,0,0,1,8.2,7.75,21.16,21.16,0,0,1,2.93,11.06,20.84,20.84,0,0,1-6.48,15.66,22.2,22.2,0,0,1-16,6.25,23,23,0,0,1-11.43-2.83,21.45,21.45,0,0,1-8-7.69,21.76,21.76,0,0,1-2.92-11.38,20.53,20.53,0,0,1,6.4-15.51,22.09,22.09,0,0,1,15.9-6.15m.12,2.69a10.36,10.36,0,0,0-6.15,1.85,12.21,12.21,0,0,0-4.14,5.94,32.79,32.79,0,0,0-1.53,11.18c0,5,.47,8.91,1.42,11.49a11.45,11.45,0,0,0,4.13,5.74,10.91,10.91,0,0,0,6.31,1.85,10,10,0,0,0,8.5-4.32c2.14-2.88,3.19-7.62,3.19-14.77,0-5-.46-9-1.37-11.51a11.05,11.05,0,0,0-4.07-5.6A10.88,10.88,0,0,0,217.2,14.3Z\"></path></svg>\\n<div class=\"row recipe-header\">\\n<div class=\"col-xs-12 col-lg-9\">\\n<div class=\"row top-section\">\\n<div class=\"col-lg-5 col-md-5 col-sm-6 col-sm-ls-7 recipe-header-left\">\\n<div class=\"hero-wrapper\">\\n<img alt=\"Smoked salmon pasta\" height=\"1066\" sizes=\"(max-width: 767px) 325px, 800px\" src=\"https://img.jamieoliver.com/jamieoliver/recipe-database/136295675.jpg?tr=w-800,h-1066\" srcset=\"https://img.jamieoliver.com/jamieoliver/recipe-database/136295675.jpg?tr=w-800,h-1066 800w, https://img.jamieoliver.com/jamieoliver/recipe-database/136295675.jpg?tr=w-650,h-866 650w, https://img.jamieoliver.com/jamieoliver/recipe-database/136295675.jpg?tr=w-400,h-533 400w, https://img.jamieoliver.com/jamieoliver/recipe-database/136295675.jpg?tr=w-325,h-433 325w\" width=\"800\"/> </div>\\n<div class=\"recipe-user-controls\">\\n<div class=\"binder-component\" data-id=\"87809\"></div>\\n<a class=\"print-link gtm-print-link hidden-xs\" title=\"Print\"></a>\\n</div>\\n</div>\\n<div class=\"col-lg-7 col-md-7 col-sm-6 col-sm-ls-5 col-xs-12 single-recipe-details\">\\n<h1 class=\"hidden-xs\">Smoked salmon pasta</h1>\\n<p class=\"subheading hidden-xs\">Spinach, spring onion, lemon, curds &amp; Parmesan</p>\\n<div class=\"float-wrapper hidden-xs\">\\n</div>\\n<div class=\"row\">\\n<div class=\"col-md-12\">\\n<div class=\"row recipe-details\">\\n<div class=\"col-md-12 recipe-details-col remove-left-col-padding-md\">\\n<div class=\"recipe-detail serves\">\\n<svg viewbox=\"0 0 13 16\" xmlns=\"http://www.w3.org/2000/svg\"><title>Serves</title><path d=\"M6.5 11.4c2.2 0 4.1-1.8 4.1-4.1V5.1C10.6 2.8 8.7 1 6.5 1S2.4 2.8 2.4 5.1v2.3c0 2.2 1.9 4 4.1 4zm0-1.1c-1.6 0-2.9-1.3-2.9-2.9V5.1c0-1.6 1.3-2.9 2.9-2.9 1.6 0 2.9 1.3 2.9 2.9v2.3c0 1.6-1.3 2.9-2.9 2.9z\"></path><path d=\"M12.9 14.1c-.3-1.4-1-2.7-2.1-3.6-.1-.1-.2-.1-.4-.1s-.3.1-.4.2c-.1.1-.1.3-.1.4 0 .1.1.3.2.4 1 .9 1.7 2.2 1.8 3.5H1.1c.1-1.4.8-2.6 1.8-3.5.1-.1.2-.2.2-.4 0-.1 0-.3-.1-.4-.1-.1-.3-.2-.4-.2-.1 0-.3 0-.4.1-1.1.9-1.8 2.2-2.1 3.6-.1.4-.1.8-.1 1.3 0 .3.2.6.5.6h11.9c.3 0 .6-.3.6-.6 0-.5 0-.9-.1-1.3z\"></path></svg>\\n<span class=\"detail_desc\">Serves</span> 1                                                                                                            </div>\\n<div class=\"recipe-detail time\">\\n<svg viewbox=\"0 0 15 15\" xmlns=\"http://www.w3.org/2000/svg\"><title>Time</title><path d=\"M7.5 0C3.4 0 0 3.4 0 7.5S3.4 15 7.5 15 15 11.6 15 7.5 11.6 0 7.5 0zm0 13.5c-3.3 0-6-2.7-6-6s2.7-6 6-6 6 2.7 6 6-2.7 6-6 6zm.4-9.7H6.8v4.5l3.9 2.4.6-1-3.4-2V3.8z\" fill-opacity=\".9\"></path></svg>\\n<span class=\"detail_desc\">Cooks In</span>8 minutes                                                    </div>\\n<div class=\"recipe-detail difficulty not-too-tricky\">\\n<span class=\"detail_desc\">Difficulty</span>Not too tricky                                                    </div>\\n</div>\\n</div>\\n</div>\\n</div>\\n<div class=\"tags-wrapper hidden-xs\">\\n<div class=\"tags-list\">\\n<svg viewbox=\"0 0 27.2 27.2\">\\n<g>\\n<path d=\"M26.4,1.5c0-0.3-0.3-0.6-0.7-0.7L13.8,0L0.2,13.6c-0.2,0.2-0.2,0.6,0,0.9L12.7,27c0.2,0.2,0.6,0.2,0.9,0\\n\\t\\tl13.6-13.6L26.4,1.5z M13.6,25.3c-0.2,0.2-0.6,0.2-0.9,0L2,14.5c-0.2-0.2-0.3-0.6,0-0.9L14.4,1.2l10,0.9c0.3,0,0.7,0.3,0.7,0.7\\n\\t\\tl0.9,10L13.6,25.3z\" fill=\"#62A5A1\"></path>\\n<path d=\"M17.3,6.3c-1,1-0.9,2.5,0,3.5s2.6,1,3.5,0c1-1,0.9-2.5,0-3.5C19.9,5.4,18.3,5.4,17.3,6.3z M20,9\\n\\t\\tc-0.5,0.5-1.3,0.5-1.8,0s-0.5-1.3,0-1.8c0.5-0.5,1.3-0.5,1.8,0C20.5,7.7,20.5,8.5,20,9z\" fill=\"#62A5A1\"></path>\\n</g>\\n</svg> <a href=\"https://www.jamieoliver.com/recipes/salmon-recipes/\">Salmon</a><a href=\"https://www.jamieoliver.com/recipes/spinach-recipes/\">Spinach</a><a href=\"https://www.jamieoliver.com/recipes/category/course/one-pan-recipes/\">One-pan recipes</a><a href=\"https://www.jamieoliver.com/recipes/category/course/meals-for-one/\">Meals for one</a> </div>\\n</div>\\n<div class=\"recipe-nutrition\">\\n<h6 class=\"section-expand\" data-target=\".nutrition-expanded\">\\n            Nutrition per serving            <span class=\"plus\"><svg viewbox=\"0 0 24 24\" xmlns=\"http://www.w3.org/2000/svg\"><title>Plus</title><circle cx=\"12\" cy=\"12\" fill=\"transparent\" r=\"12\"></circle><path d=\"M6 11h12v2H6z\" fill=\"#FFF\"></path><path class=\"vertical-line\" d=\"M11 6h2v12h-2z\" fill=\"#FFF\"></path></svg>\\n</span>\\n</h6>\\n<div class=\"nutrition-expanded\">\\n<ul>\\n<li class=\"\" data-desc=\"Calories are just a unit of energy. If you eat more than you use you can gain weight, or lose it if you don\\'t eat enough. How much you need depends on your weight, gender and how active you are, but it\\'s around 2,000 a day.\" title=\"Calories\">\\n<div class=\"inner\">\\n<span class=\"title\">\\n                                    Calories                                </span>\\n<span class=\"top\">\\n                                    431                                </span>\\n<span class=\"bottom\">\\n                                    22%                                </span>\\n</div>\\n</li>\\n<li class=\"green\" data-desc=\"We all need to eat a small amount of fat because it protects our organs and helps us grow. But we need to be careful about how much fat we eat and what kinds of fat, because in higher levels it\\'s associated with weight gain, diabetes, cancer and heart disease.\" title=\"Fat\">\\n<div class=\"inner\">\\n<span class=\"title\">\\n                                    Fat                                </span>\\n<span class=\"top\">\\n                                    14.8g                                </span>\\n<span class=\"bottom\">\\n                                    21%                                </span>\\n</div>\\n</li>\\n<li class=\"green\" data-desc=\\'Saturated or \"bad fats\" are in beef, pork, chicken skin, butter, cream and cheese. Too much can be bad for our heart and cholesterol levels, but unsaturated or \"good fats\" in fish, nuts, avocados and some oils can help keep our hearts healthy if eaten in moderation.\\' title=\"Saturates\">\\n<div class=\"inner\">\\n<span class=\"title\">\\n                                    Saturates                                </span>\\n<span class=\"top\">\\n                                    4g                                </span>\\n<span class=\"bottom\">\\n                                    20%                                </span>\\n</div>\\n</li>\\n<li class=\"green\" data-desc=\"We all deserve a treat sometimes, but try to limit your sugar intake. Most of your sugar should come from raw fruit and milk, because they give us lots of nutrients too. Always check food labels so you know how much sugar you\\'re eating.\" title=\"Sugars\">\\n<div class=\"inner\">\\n<span class=\"title\">\\n                                    Sugars                                </span>\\n<span class=\"top\">\\n                                    4.6g                                </span>\\n<span class=\"bottom\">\\n                                    5%                                </span>\\n</div>\\n</li>\\n<li class=\"green\" data-desc=\"Although we need a small amount of salt in our diets to help regulate the amount of water in our bodies and other bodily functions, there is a strong link between consuming too much salt and bad health. Too much salt can damage our organs and increases the risk of disease.\" title=\"Salt\">\\n<div class=\"inner\">\\n<span class=\"title\">\\n                                    Salt                                </span>\\n<span class=\"top\">\\n                                    1.7g                                </span>\\n<span class=\"bottom\">\\n                                    28%                                </span>\\n</div>\\n</li>\\n<li class=\"\" data-desc=\"Protein helps our muscles to grow and repair, as well as providing you with essential amino acids. When it comes to protein, try to eat leaner sources such as chicken and fish or non-meat sources such as eggs, dairy, beans, nuts, seeds, tofu and pulses.\" title=\"Protein\">\\n<div class=\"inner\">\\n<span class=\"title\">\\n                                    Protein                                </span>\\n<span class=\"top\">\\n                                    29.5g                                </span>\\n<span class=\"bottom\">\\n                                    59%                                </span>\\n</div>\\n</li>\\n<li class=\"\" data-desc=\"Carbs are a great source of energy and, excluding foods such as potatoes, are made from grains - like bread, pasta and cereal. We all need carbs, but try to make them all wholegrain by sticking to brown bread, rice and pasta - they are much more nutritious.\" title=\"Carbs\">\\n<div class=\"inner\">\\n<span class=\"title\">\\n                                    Carbs                                </span>\\n<span class=\"top\">\\n                                    43.6g                                </span>\\n<span class=\"bottom\">\\n                                    17%                                </span>\\n</div>\\n</li>\\n<li class=\"\" data-desc=\"Fibre is classed as a carbohydrate and is mainly found in plant-based foods. We should be aiming for about 30g of fibre each day, to help other food and waste pass through the gut and keep our insides happy, fibre also helps to reduce blood cholesterol.\" title=\"Fibre\">\\n<div class=\"inner\">\\n<span class=\"title\">\\n                                    Fibre                                </span>\\n<span class=\"top\">\\n                                    3.1g                                </span>\\n<span class=\"bottom\">\\n                                    -                                </span>\\n</div>\\n</li>\\n</ul>\\n<h6 class=\"ref\">\\n                Of an adult\\'s reference intake            </h6>\\n</div>\\n</div>\\n<div class=\"hidden-mobile\">\\n<div class=\"recipe-source-wrapper source-jamie\">\\n<div class=\"recipe-source-images\">\\n<div class=\"recipe-source-image\">\\n<a class=\"src-one\" href=\"https://gtly.to/7eElQDBYO\" target=\"_blank\">\\n<img alt=\"ONE\" class=\"responsive-image native-lazy-image\" height=\"180\" loading=\"lazy\" src=\"https://img.jamieoliver.com/jamieoliver/recipe-database/originalSourceImage/24d2dd962b4244bb79b4ec8be672c79d.jpeg?tr=w-140\" width=\"140\"/> </a>\\n</div>\\n</div>\\n<div class=\"recipe-source-details\">\\n<div class=\"recipe-source-banner\">Recipe From</div>\\n<h4>ONE</h4>\\n<span class=\"author\">\\n                        By Jamie Oliver                    </span>\\n<div class=\"recipe-source-link gtm-recipe-source-link\">\\n<a class=\"src-one\" href=\"https://gtly.to/7eElQDBYO\" target=\"_blank\">BUY THE BOOK</a>\\n</div>\\n</div>\\n</div>\\n</div>\\n</div>\\n</div>\\n<div class=\"row\" id=\"recipe-core\">\\n<div class=\"recipe-left-col col-sm-5 col-md-4 col-sd-4 col-lg-4\">\\n<div class=\"mobile-ad-ingredients-before visible-xs mb-30 mt-minus-5\">\\n<div class=\"mobile-ad-placeholder mobile-ad-placeholder-tall\">\\n<!-- Advertisement -->\\n<div class=\"proper-ad-unit\">\\n<div id=\"proper-ad-jamieoliver_recipe_mobile\">\\n<script>\\n                if (window.innerWidth <= 767 && window.innerWidth >= 0) {\\n                    propertag.cmd.push(function() { proper_display(\\'jamieoliver_recipe_mobile\\'); });\\n                }\\n            </script>\\n</div>\\n</div>\\n<!-- End Advertisement -->\\n</div>\\n</div>\\n<div class=\"recipe-ingredients\">\\n<div class=\"method-nav-bar visible-xs-block\">\\n</div>\\n<div class=\"recipe-method-nav\">\\n<div class=\"vertical-text-wrapper\">\\n<div class=\"arrow\">\\n<svg class=\"arrow-right\" viewbox=\"0 0 21 21\" xmlns=\"http://www.w3.org/2000/svg\"><path class=\"a\" d=\"M16.5 9.5l-4.7-4.7-1 1 4.7 4.7-4.7 4.7 1 1 4.7-4.7 1-1z\"></path><path class=\"b\" d=\"M15.5 10.5H4.2\" fill=\"none\" stroke-miterlimit=\"10\" stroke-width=\"1.3\"></path><g><path class=\"a\" d=\"M10.5 1c5.2 0 9.5 4.3 9.5 9.5S15.7 20 10.5 20 1 15.7 1 10.5 5.3 1 10.5 1m0-1C4.7 0 0 4.7 0 10.5S4.7 21 10.5 21 21 16.3 21 10.5 16.3 0 10.5 0z\"></path></g></svg>\\n</div>\\n<div class=\"vertical-text\">\\n                                            Tap For Method                                        </div>\\n</div>\\n</div>\\n<div class=\"ingredients-heading\">\\n<h2>Ingredients</h2>\\n</div>\\n<div class=\"row\">\\n<div class=\"col-md-12 ingredient-wrapper\">\\n<ul class=\"ingred-list\">\\n<li>\\n                                                                                                            125                                                                                                                                                                g                                                                                                                                                                fresh lasagne sheets                                                                                                                                                        </li>\\n<li>\\n                                                                                                            2                                                                                                                                                                                                                    spring onions                                                                                                                                                        </li>\\n<li>\\n                                                                                                            80                                                                                                                                                                g                                                                                                                                                                spinach                                                                                                                                                        </li>\\n<li>\\n                                                                                                            60                                                                                                                                                                g                                                                                                                                                                smoked salmon (2 slices)                                                                                                                                                        </li>\\n<li>\\n                                                                                                            ½                                                                                                                                                                                                                    a lemon                                                                                                                                                        </li>\\n<li>\\n                                                                                                            5                                                                                                                                                                g                                                                                                                                                                Parmesan cheese                                                                                                                                                        </li>\\n<li>\\n                                                                                                                                                                                                                    olive oil                                                                                                                                                        </li>\\n<li>\\n                                                                                                            1                                                                                                                                                                tablespoon                                                                                                                                                                cottage cheese                                                                                                                                                        </li>\\n<li>\\n                                                                                                                                                                                                                    optional: extra virgin olive oil                                                                                                                                                        </li>\\n</ul>\\n</div>\\n</div>\\n</div>\\n<div class=\"method-mobile-prompt-wrapper\">\\n<div class=\"method-mobile-prompt\">\\n<span class=\"method-mobile-prompt-text\">Tap For Method</span>\\n<span class=\"method-mobile-prompt-arrows\"><svg class=\"arrow-right\" viewbox=\"0 0 21 21\" xmlns=\"http://www.w3.org/2000/svg\"><path class=\"a\" d=\"M16.5 9.5l-4.7-4.7-1 1 4.7 4.7-4.7 4.7 1 1 4.7-4.7 1-1z\"></path><path class=\"b\" d=\"M15.5 10.5H4.2\" fill=\"none\" stroke-miterlimit=\"10\" stroke-width=\"1.3\"></path><g><path class=\"a\" d=\"M10.5 1c5.2 0 9.5 4.3 9.5 9.5S15.7 20 10.5 20 1 15.7 1 10.5 5.3 1 10.5 1m0-1C4.7 0 0 4.7 0 10.5S4.7 21 10.5 21 21 16.3 21 10.5 16.3 0 10.5 0z\"></path></g></svg>\\n</span>\\n</div>\\n</div>\\n<div class=\"whisk-disclaimer\">\\n<p>The cost per serving below is generated by Whisk.com and is based on costs in individual supermarkets.\\xa0 For more information about how we calculate costs per serving read our <a href=\"https://www.jamieoliver.com/budget-friendly-recipes/1-wonders-faqs/\">FAQS</a></p>\\n</div>\\n<div class=\"whisk-container\" id=\"whisk-widget\"></div>\\n<div class=\"visible-mobile lower-recipe-source\">\\n<div class=\"recipe-source-wrapper source-jamie\">\\n<div class=\"recipe-source-images\">\\n<div class=\"recipe-source-image\">\\n<a class=\"src-one\" href=\"https://gtly.to/7eElQDBYO\" target=\"_blank\">\\n<img alt=\"ONE\" class=\"responsive-image native-lazy-image\" height=\"180\" loading=\"lazy\" src=\"https://img.jamieoliver.com/jamieoliver/recipe-database/originalSourceImage/24d2dd962b4244bb79b4ec8be672c79d.jpeg?tr=w-140\" width=\"140\"/> </a>\\n</div>\\n</div>\\n<div class=\"recipe-source-details\">\\n<div class=\"recipe-source-banner\">Recipe From</div>\\n<h4>ONE</h4>\\n<span class=\"author\">\\n                        By Jamie Oliver                    </span>\\n<div class=\"recipe-source-link gtm-recipe-source-link\">\\n<a class=\"src-one\" href=\"https://gtly.to/7eElQDBYO\" target=\"_blank\">BUY THE BOOK</a>\\n</div>\\n</div>\\n</div>\\n</div>\\n<div class=\"mobile-ad-placeholder mobile-ad-placeholder-tall ad single-recipe-avocado-lr2 visible-xs\">\\n<!-- Advertisement -->\\n<div class=\"proper-ad-unit\">\\n<div id=\"proper-ad-jamieoliver_leftrail_mobile\">\\n<script>\\n                if (window.innerWidth <= 767 && window.innerWidth >= 0) {\\n                    propertag.cmd.push(function() { proper_display(\\'jamieoliver_leftrail_mobile\\'); });\\n                }\\n            </script>\\n</div>\\n</div>\\n<!-- End Advertisement -->\\n</div>\\n</div>\\n<div class=\"instructions-col col-sm-7 col-md-8 col-sd-8 col-lg-8\">\\n<div class=\"recipe-ingred-nav\">\\n<div class=\"vertical-text-wrapper\">\\n<div class=\"arrow\">\\n<svg class=\"arrow-right\" viewbox=\"0 0 21 21\" xmlns=\"http://www.w3.org/2000/svg\"><path class=\"a\" d=\"M16.5 9.5l-4.7-4.7-1 1 4.7 4.7-4.7 4.7 1 1 4.7-4.7 1-1z\"></path><path class=\"b\" d=\"M15.5 10.5H4.2\" fill=\"none\" stroke-miterlimit=\"10\" stroke-width=\"1.3\"></path><g><path class=\"a\" d=\"M10.5 1c5.2 0 9.5 4.3 9.5 9.5S15.7 20 10.5 20 1 15.7 1 10.5 5.3 1 10.5 1m0-1C4.7 0 0 4.7 0 10.5S4.7 21 10.5 21 21 16.3 21 10.5 16.3 0 10.5 0z\"></path></g></svg>\\n</div>\\n<div class=\"vertical-text\">\\n                                        Tap For Ingredients                                    </div>\\n</div>\\n</div>\\n<div class=\"recipe-instructions\">\\n<div class=\"instructions-wrapper\">\\n<div class=\"method-p\">\\n<h2>Method</h2>\\n<div class=\"\">\\n                                                Boil the kettle. Cut the lasagne sheets in half lengthways, then into 2cm strips, using a crinkle-cut knife, if you’ve got one. Trim the spring onions and finely chop with the spinach and half the salmon. Finely grate the lemon zest, then the Parmesan, keeping them separate. Put a 28cm frying pan on a high heat.<br/>\\n<br/>\\r\\nOnce hot, put a little drizzle of olive oil into the pan with the spring onions, spinach, chopped salmon and lemon zest. Scatter the pasta into the pan, then carefully pour in enough boiling kettle water to just cover the pasta – about 250ml. Let it bubble away for 4 minutes, or until the pasta has absorbed most of the water and you’ve got a nice sauce, stirring regularly and loosening with an extra splash of water, if needed. Turn the heat off, squeeze in the lemon juice, stir in the cottage cheese and Parmesan, then season to perfection. Delicately tear over the remaining salmon, and finish with a kiss of extra virgin olive oil, if you like.                                            </div>\\n<div class=\"promo-banner\" data-slot=\"under-recipe\">\\n<a class=\"cookies-required\" onclick=\"CookieControl.open();\">Please enable targetting cookies to show this banner</a>\\n</div>\\n<div class=\"avocado-desktop-foot mobile-ad-placeholder mobile-ad-placeholder-tall\">\\n<!-- Advertisement -->\\n<div class=\"proper-ad-unit\">\\n<div id=\"proper-ad-jamieoliver_leftrail\">\\n<script>\\n                if (window.innerWidth <= 10000 && window.innerWidth >= 768) {\\n                    propertag.cmd.push(function() { proper_display(\\'jamieoliver_leftrail\\'); });\\n                }\\n            </script>\\n</div>\\n</div>\\n<!-- End Advertisement -->\\n</div>\\n<div class=\"mobile-related-recipes\"></div>\\n</div>\\n</div>\\n</div>\\n</div>\\n</div>\\n<div class=\"related-items recipe-related-wrapper recipe-related-recipes recipe-related-two\">\\n<div class=\"recipe-related-title\">Related recipes</div>\\n<div class=\"recipe-related-items\">\\n<div class=\"recipe-related-item -is-recipe\">\\n<div class=\"recipe-related-item-image\">\\n<a href=\"/recipes/beef-recipes/loaded-beefburger/\"><img alt=\"Loaded beefburger\" class=\"responsive-image native-lazy-image\" height=\"425\" loading=\"lazy\" src=\"https://img.jamieoliver.com/jamieoliver/recipe-database/138452754.jpg?tr=w-318\" width=\"318\"/></a>\\n</div>\\n<div class=\"recipe-related-item-title\">\\n<a class=\"hover-link\" href=\"/recipes/beef-recipes/loaded-beefburger/\">Loaded beefburger</a>\\n</div>\\n</div>\\n<div class=\"recipe-related-item -is-recipe\">\\n<div class=\"recipe-related-item-image\">\\n<a href=\"/recipes/bread-recipes/toffee-apple-buns/\"><img alt=\"Toffee apple buns\" class=\"responsive-image native-lazy-image\" height=\"425\" loading=\"lazy\" src=\"https://img.jamieoliver.com/jamieoliver/recipe-database/138452759.jpg?tr=w-318\" width=\"318\"/></a>\\n</div>\\n<div class=\"recipe-related-item-title\">\\n<a class=\"hover-link\" href=\"/recipes/bread-recipes/toffee-apple-buns/\">Toffee apple buns</a>\\n</div>\\n</div>\\n</div>\\n</div>\\n<div class=\"related-items recipe-related-wrapper\" id=\"recipe-related-features\">\\n<div class=\"recipe-related-title\">Related features</div>\\n<div class=\"recipe-related-items\">\\n<div class=\"recipe-related-item -is-feature\">\\n<div class=\"recipe-related-item-image\">\\n<a class=\"hover-link\" href=\"https://www.jamieoliver.com/features/best-halloumi-recipes/\">\\n<img alt=\"Gorgeous halloumi recipes\" class=\"responsive-image native-lazy-image\" height=\"323\" loading=\"lazy\" src=\"https://img.jamieoliver.com/home/wp-content/uploads/2022/08/4.Halloumi_skewers_20-1024x682.jpeg?tr=w-485\" width=\"485\"/> </a>\\n</div>\\n<div class=\"recipe-related-item-title\">\\n<a class=\"hover-link\" href=\"https://www.jamieoliver.com/features/best-halloumi-recipes/\">Gorgeous halloumi recipes</a>\\n</div>\\n</div>\\n<div class=\"recipe-related-item -is-feature\">\\n<div class=\"recipe-related-item-image\">\\n<a class=\"hover-link\" href=\"https://www.jamieoliver.com/features/what-to-buy-for-fathers-day/\">\\n<img alt=\"What to buy him this Father’s day\" class=\"responsive-image native-lazy-image\" height=\"323\" loading=\"lazy\" src=\"https://img.jamieoliver.com/home/wp-content/uploads/2023/05/jamiestefalpanfathersday-1024x683.jpg?tr=w-485\" width=\"485\"/> </a>\\n</div>\\n<div class=\"recipe-related-item-title\">\\n<a class=\"hover-link\" href=\"https://www.jamieoliver.com/features/what-to-buy-for-fathers-day/\">What to buy him this Father’s day</a>\\n</div>\\n</div>\\n<div class=\"recipe-related-item -is-feature\">\\n<div class=\"recipe-related-item-image\">\\n<a class=\"hover-link\" href=\"https://www.jamieoliver.com/features/quick-healthy-fish-recipes/\">\\n<img alt=\"12 of our best quick &amp; healthy fish recipes\" class=\"responsive-image native-lazy-image\" height=\"323\" loading=\"lazy\" src=\"https://img.jamieoliver.com/home/wp-content/uploads/2023/04/9_QUICK_WHITE_FISH_TAGINE_044-1024x682.jpg?tr=w-485\" width=\"485\"/> </a>\\n</div>\\n<div class=\"recipe-related-item-title\">\\n<a class=\"hover-link\" href=\"https://www.jamieoliver.com/features/quick-healthy-fish-recipes/\">12 of our best quick &amp; healthy fish recipes</a>\\n</div>\\n</div>\\n</div>\\n</div>\\n</div>\\n<!-- TODO Swing this under for mobile -->\\n<div class=\"col-sm-12 col-lg-3 single-recipe-top-sidebar\">\\n<div class=\"visible-lg\">\\n<div class=\"recipe-source-wrapper source-jamie\">\\n<div class=\"recipe-source-images\">\\n<div class=\"recipe-source-image\">\\n<a class=\"src-one\" href=\"https://gtly.to/7eElQDBYO\" target=\"_blank\">\\n<img alt=\"ONE\" class=\"responsive-image native-lazy-image\" height=\"180\" loading=\"lazy\" src=\"https://img.jamieoliver.com/jamieoliver/recipe-database/originalSourceImage/24d2dd962b4244bb79b4ec8be672c79d.jpeg?tr=w-140\" width=\"140\"/> </a>\\n</div>\\n</div>\\n<div class=\"recipe-source-details\">\\n<div class=\"recipe-source-banner\">Recipe From</div>\\n<h4>ONE</h4>\\n<span class=\"author\">\\n                        By Jamie Oliver                    </span>\\n<div class=\"recipe-source-link gtm-recipe-source-link\">\\n<a class=\"src-one\" href=\"https://gtly.to/7eElQDBYO\" target=\"_blank\">BUY THE BOOK</a>\\n</div>\\n</div>\\n</div>\\n</div>\\n<div id=\"sticky-anchor\"></div>\\n<div class=\"commercial-sidebar sticky sticky-lg\" id=\"sticky\">\\n<!-- Advertisement -->\\n<div class=\"proper-ad-unit ad ad-zero-margin visible-lg\">\\n<div id=\"proper-ad-jamieoliver_recipe_side_1\">\\n<script>\\n                if (window.innerWidth <= 10000 && window.innerWidth >= 1490) {\\n                    propertag.cmd.push(function() { proper_display(\\'jamieoliver_recipe_side_1\\'); });\\n                }\\n            </script>\\n</div>\\n</div>\\n<!-- End Advertisement -->\\n</div>\\n</div>\\n</div>\\n</div>\\n</section>'"
            ],
            "application/vnd.google.colaboratory.intrinsic+json": {
              "type": "string"
            }
          },
          "metadata": {},
          "execution_count": 17
        }
      ]
    },
    {
      "cell_type": "code",
      "source": [
        "from langchain.schema import (\n",
        "    AIMessage,\n",
        "    HumanMessage,\n",
        "    SystemMessage\n",
        ")\n",
        "# Set up a parser + inject instructions into the prompt template.\n",
        "parser = PydanticOutputParser(pydantic_object=Recipe)\n",
        "\n",
        "prompt = PromptTemplate(\n",
        "    template=\"Extract the recipe ingredients from the following HTML markup:\\n{html}.\\n{format_instructions}\\n\",\n",
        "    input_variables=[\"html\"],\n",
        "    partial_variables={\"format_instructions\": parser.get_format_instructions()},\n",
        ")\n",
        "\n",
        "_input = prompt.format_prompt(html=html_markup)\n",
        "\n",
        "output = model([ HumanMessage(content=_input.to_string()) ])\n",
        "\n",
        "parser.parse(output.content)"
      ],
      "metadata": {
        "colab": {
          "base_uri": "https://localhost:8080/"
        },
        "id": "be38OASS2F0F",
        "outputId": "491e5a68-5485-4dec-f75d-e40e79da180b"
      },
      "execution_count": 22,
      "outputs": [
        {
          "output_type": "execute_result",
          "data": {
            "text/plain": [
              "Recipe(name='Smoked salmon pasta', ingredients=[Ingredient(name='fresh lasagne sheets', quantity=125.0, unit='g'), Ingredient(name='spring onions', quantity=2.0, unit=''), Ingredient(name='spinach', quantity=80.0, unit='g'), Ingredient(name='smoked salmon', quantity=60.0, unit='g'), Ingredient(name='a lemon', quantity=0.5, unit=''), Ingredient(name='Parmesan cheese', quantity=5.0, unit='g'), Ingredient(name='olive oil', quantity=0.0, unit=''), Ingredient(name='cottage cheese', quantity=1.0, unit='tablespoon'), Ingredient(name='optional: extra virgin olive oil', quantity=0.0, unit='')])"
            ]
          },
          "metadata": {},
          "execution_count": 22
        }
      ]
    }
  ]
}